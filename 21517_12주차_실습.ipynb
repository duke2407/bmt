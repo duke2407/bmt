{
  "nbformat": 4,
  "nbformat_minor": 0,
  "metadata": {
    "colab": {
      "name": "21517_12주차 실습.ipynb",
      "provenance": [],
      "authorship_tag": "ABX9TyMpz46YgDUQKfl9gdkUDwcn",
      "include_colab_link": true
    },
    "kernelspec": {
      "name": "python3",
      "display_name": "Python 3"
    },
    "language_info": {
      "name": "python"
    }
  },
  "cells": [
    {
      "cell_type": "markdown",
      "metadata": {
        "id": "view-in-github",
        "colab_type": "text"
      },
      "source": [
        "<a href=\"https://colab.research.google.com/github/duke2407/bmt/blob/main/21517_12%EC%A3%BC%EC%B0%A8_%EC%8B%A4%EC%8A%B5.ipynb\" target=\"_parent\"><img src=\"https://colab.research.google.com/assets/colab-badge.svg\" alt=\"Open In Colab\"/></a>"
      ]
    },
    {
      "cell_type": "code",
      "metadata": {
        "id": "IYKwpAyxLrl-"
      },
      "source": [
        "import pandas as pd\n",
        "import numpy as np\n",
        "import matplotlib.pyplot as plt"
      ],
      "execution_count": 2,
      "outputs": []
    },
    {
      "cell_type": "code",
      "metadata": {
        "id": "ucqP5drXN7Ia"
      },
      "source": [
        "dates = pd.date_range('20210521', periods=6)\n"
      ],
      "execution_count": 3,
      "outputs": []
    },
    {
      "cell_type": "code",
      "metadata": {
        "id": "nJKDi9wdOYUD"
      },
      "source": [
        "df = pd.DataFrame(np.random.randn(6,4), index=dates, columns=list('ABCD')) "
      ],
      "execution_count": 4,
      "outputs": []
    },
    {
      "cell_type": "code",
      "metadata": {
        "colab": {
          "base_uri": "https://localhost:8080/",
          "height": 235
        },
        "id": "1oCXhyrCOcDK",
        "outputId": "a337c16c-fbd2-4ba0-cfa9-16d09a776765"
      },
      "source": [
        "df"
      ],
      "execution_count": 5,
      "outputs": [
        {
          "output_type": "execute_result",
          "data": {
            "text/html": [
              "<div>\n",
              "<style scoped>\n",
              "    .dataframe tbody tr th:only-of-type {\n",
              "        vertical-align: middle;\n",
              "    }\n",
              "\n",
              "    .dataframe tbody tr th {\n",
              "        vertical-align: top;\n",
              "    }\n",
              "\n",
              "    .dataframe thead th {\n",
              "        text-align: right;\n",
              "    }\n",
              "</style>\n",
              "<table border=\"1\" class=\"dataframe\">\n",
              "  <thead>\n",
              "    <tr style=\"text-align: right;\">\n",
              "      <th></th>\n",
              "      <th>A</th>\n",
              "      <th>B</th>\n",
              "      <th>C</th>\n",
              "      <th>D</th>\n",
              "    </tr>\n",
              "  </thead>\n",
              "  <tbody>\n",
              "    <tr>\n",
              "      <th>2021-05-21</th>\n",
              "      <td>-0.221524</td>\n",
              "      <td>-0.235176</td>\n",
              "      <td>0.658877</td>\n",
              "      <td>-0.402241</td>\n",
              "    </tr>\n",
              "    <tr>\n",
              "      <th>2021-05-22</th>\n",
              "      <td>0.796139</td>\n",
              "      <td>-1.036555</td>\n",
              "      <td>-1.971630</td>\n",
              "      <td>1.438422</td>\n",
              "    </tr>\n",
              "    <tr>\n",
              "      <th>2021-05-23</th>\n",
              "      <td>0.229748</td>\n",
              "      <td>-0.014633</td>\n",
              "      <td>-1.832107</td>\n",
              "      <td>0.714795</td>\n",
              "    </tr>\n",
              "    <tr>\n",
              "      <th>2021-05-24</th>\n",
              "      <td>2.054048</td>\n",
              "      <td>1.696634</td>\n",
              "      <td>1.429757</td>\n",
              "      <td>0.805011</td>\n",
              "    </tr>\n",
              "    <tr>\n",
              "      <th>2021-05-25</th>\n",
              "      <td>-0.557251</td>\n",
              "      <td>1.288735</td>\n",
              "      <td>1.127700</td>\n",
              "      <td>0.424357</td>\n",
              "    </tr>\n",
              "    <tr>\n",
              "      <th>2021-05-26</th>\n",
              "      <td>-1.705218</td>\n",
              "      <td>-1.035135</td>\n",
              "      <td>2.587024</td>\n",
              "      <td>-0.020875</td>\n",
              "    </tr>\n",
              "  </tbody>\n",
              "</table>\n",
              "</div>"
            ],
            "text/plain": [
              "                   A         B         C         D\n",
              "2021-05-21 -0.221524 -0.235176  0.658877 -0.402241\n",
              "2021-05-22  0.796139 -1.036555 -1.971630  1.438422\n",
              "2021-05-23  0.229748 -0.014633 -1.832107  0.714795\n",
              "2021-05-24  2.054048  1.696634  1.429757  0.805011\n",
              "2021-05-25 -0.557251  1.288735  1.127700  0.424357\n",
              "2021-05-26 -1.705218 -1.035135  2.587024 -0.020875"
            ]
          },
          "metadata": {
            "tags": []
          },
          "execution_count": 5
        }
      ]
    },
    {
      "cell_type": "code",
      "metadata": {
        "id": "nqqohETJOpta"
      },
      "source": [
        "s = pd.Series(np.random.randint(1,7,size=5))"
      ],
      "execution_count": 6,
      "outputs": []
    },
    {
      "cell_type": "code",
      "metadata": {
        "colab": {
          "base_uri": "https://localhost:8080/"
        },
        "id": "85HydyxkPEbh",
        "outputId": "2b5f7af6-85ef-44f8-a9a3-8091ada45343"
      },
      "source": [
        "s.value_counts()"
      ],
      "execution_count": 7,
      "outputs": [
        {
          "output_type": "execute_result",
          "data": {
            "text/plain": [
              "5    2\n",
              "3    2\n",
              "2    1\n",
              "dtype: int64"
            ]
          },
          "metadata": {
            "tags": []
          },
          "execution_count": 7
        }
      ]
    },
    {
      "cell_type": "code",
      "metadata": {
        "colab": {
          "base_uri": "https://localhost:8080/"
        },
        "id": "HKVs4B12PKAn",
        "outputId": "7d7d3ec9-e35e-48b3-f39f-96684a1d25d6"
      },
      "source": [
        "s.value_counts()"
      ],
      "execution_count": 9,
      "outputs": [
        {
          "output_type": "execute_result",
          "data": {
            "text/plain": [
              "5    2\n",
              "3    2\n",
              "2    1\n",
              "dtype: int64"
            ]
          },
          "metadata": {
            "tags": []
          },
          "execution_count": 9
        }
      ]
    },
    {
      "cell_type": "code",
      "metadata": {
        "id": "Ybxn53ArPVZa"
      },
      "source": [
        "df = pd.DataFrame(np.random.randn(6,4))"
      ],
      "execution_count": 11,
      "outputs": []
    },
    {
      "cell_type": "code",
      "metadata": {
        "colab": {
          "base_uri": "https://localhost:8080/",
          "height": 142
        },
        "id": "FTub1Z3eP9_i",
        "outputId": "56ad0f57-1beb-495f-9e26-fa895e02a350"
      },
      "source": [
        "df[3:7]"
      ],
      "execution_count": 12,
      "outputs": [
        {
          "output_type": "execute_result",
          "data": {
            "text/html": [
              "<div>\n",
              "<style scoped>\n",
              "    .dataframe tbody tr th:only-of-type {\n",
              "        vertical-align: middle;\n",
              "    }\n",
              "\n",
              "    .dataframe tbody tr th {\n",
              "        vertical-align: top;\n",
              "    }\n",
              "\n",
              "    .dataframe thead th {\n",
              "        text-align: right;\n",
              "    }\n",
              "</style>\n",
              "<table border=\"1\" class=\"dataframe\">\n",
              "  <thead>\n",
              "    <tr style=\"text-align: right;\">\n",
              "      <th></th>\n",
              "      <th>0</th>\n",
              "      <th>1</th>\n",
              "      <th>2</th>\n",
              "      <th>3</th>\n",
              "    </tr>\n",
              "  </thead>\n",
              "  <tbody>\n",
              "    <tr>\n",
              "      <th>3</th>\n",
              "      <td>1.131311</td>\n",
              "      <td>-1.190280</td>\n",
              "      <td>-0.522029</td>\n",
              "      <td>-0.473872</td>\n",
              "    </tr>\n",
              "    <tr>\n",
              "      <th>4</th>\n",
              "      <td>-0.291538</td>\n",
              "      <td>0.449457</td>\n",
              "      <td>0.548802</td>\n",
              "      <td>-0.261478</td>\n",
              "    </tr>\n",
              "    <tr>\n",
              "      <th>5</th>\n",
              "      <td>-0.153772</td>\n",
              "      <td>-1.569101</td>\n",
              "      <td>0.918578</td>\n",
              "      <td>-0.864204</td>\n",
              "    </tr>\n",
              "  </tbody>\n",
              "</table>\n",
              "</div>"
            ],
            "text/plain": [
              "          0         1         2         3\n",
              "3  1.131311 -1.190280 -0.522029 -0.473872\n",
              "4 -0.291538  0.449457  0.548802 -0.261478\n",
              "5 -0.153772 -1.569101  0.918578 -0.864204"
            ]
          },
          "metadata": {
            "tags": []
          },
          "execution_count": 12
        }
      ]
    },
    {
      "cell_type": "code",
      "metadata": {
        "id": "rakiw6OfQBuK"
      },
      "source": [
        "pieces = [1,2,3]"
      ],
      "execution_count": 13,
      "outputs": []
    },
    {
      "cell_type": "code",
      "metadata": {
        "colab": {
          "base_uri": "https://localhost:8080/"
        },
        "id": "poIngVekQRWh",
        "outputId": "2a6d98c8-d0b6-4ee3-9ec2-bba020c22a36"
      },
      "source": [
        "pieces"
      ],
      "execution_count": 14,
      "outputs": [
        {
          "output_type": "execute_result",
          "data": {
            "text/plain": [
              "[1, 2, 3]"
            ]
          },
          "metadata": {
            "tags": []
          },
          "execution_count": 14
        }
      ]
    },
    {
      "cell_type": "code",
      "metadata": {
        "colab": {
          "base_uri": "https://localhost:8080/"
        },
        "id": "tzCqyXzTQS1a",
        "outputId": "ec6cf4ec-5969-4806-a98f-fa3726439dba"
      },
      "source": [
        "type(pieces[1])"
      ],
      "execution_count": 15,
      "outputs": [
        {
          "output_type": "execute_result",
          "data": {
            "text/plain": [
              "int"
            ]
          },
          "metadata": {
            "tags": []
          },
          "execution_count": 15
        }
      ]
    },
    {
      "cell_type": "code",
      "metadata": {
        "id": "AqN9WRoVQjEZ"
      },
      "source": [
        "pieces = [df[:3], df[3:7], df[7:]]"
      ],
      "execution_count": 17,
      "outputs": []
    },
    {
      "cell_type": "code",
      "metadata": {
        "id": "QGGH-g5PUAj0"
      },
      "source": [
        "df. append"
      ],
      "execution_count": null,
      "outputs": []
    },
    {
      "cell_type": "code",
      "metadata": {
        "colab": {
          "base_uri": "https://localhost:8080/"
        },
        "id": "-6qsL9RtQsOB",
        "outputId": "fce1883c-bf53-4859-99ee-c0411f56ba5d"
      },
      "source": [
        "pieces"
      ],
      "execution_count": 18,
      "outputs": [
        {
          "output_type": "execute_result",
          "data": {
            "text/plain": [
              "[          0         1         2         3\n",
              " 0  1.494368  0.610419  1.048323 -0.887950\n",
              " 1  0.794292 -0.493898 -0.192692  1.647231\n",
              " 2  0.242724  1.346212 -0.580356 -1.556894,\n",
              "           0         1         2         3\n",
              " 3  1.131311 -1.190280 -0.522029 -0.473872\n",
              " 4 -0.291538  0.449457  0.548802 -0.261478\n",
              " 5 -0.153772 -1.569101  0.918578 -0.864204,\n",
              " Empty DataFrame\n",
              " Columns: [0, 1, 2, 3]\n",
              " Index: []]"
            ]
          },
          "metadata": {
            "tags": []
          },
          "execution_count": 18
        }
      ]
    },
    {
      "cell_type": "code",
      "metadata": {
        "colab": {
          "base_uri": "https://localhost:8080/"
        },
        "id": "j38CbZ1aRIb1",
        "outputId": "f9b878a3-0a50-42dd-e519-b6feaefc4ce1"
      },
      "source": [
        "left = pd.DataFrame({'key':['foo', 'foo'], 'lval': [1, 2]})\n",
        "right = pd.DataFrame({'key':['foo', 'foo'], 'rval': [4, 5]})\n",
        "\n",
        "print(left);print()\n",
        "print(right);print()\n",
        "\n",
        "pd_merge = pd.merge(left, right, on = 'key') # SQL 방식으로 병합\n",
        "print(pd_merge)\n",
        "\n",
        "print()\n",
        "\n",
        "left = pd.DataFrame({'key':['foo', 'bar'], 'lval': [1, 2]})\n",
        "right = pd.DataFrame({'key':['foo', 'bar'], 'rval': [4, 5]})\n",
        "\n",
        "pd_merge = pd.merge(left, right, on = 'key')\n",
        "print(pd_merge)"
      ],
      "execution_count": 20,
      "outputs": [
        {
          "output_type": "stream",
          "text": [
            "   key  lval\n",
            "0  foo     1\n",
            "1  foo     2\n",
            "\n",
            "   key  rval\n",
            "0  foo     4\n",
            "1  foo     5\n",
            "\n",
            "   key  lval  rval\n",
            "0  foo     1     4\n",
            "1  foo     1     5\n",
            "2  foo     2     4\n",
            "3  foo     2     5\n",
            "\n",
            "   key  lval  rval\n",
            "0  foo     1     4\n",
            "1  bar     2     5\n"
          ],
          "name": "stdout"
        }
      ]
    },
    {
      "cell_type": "code",
      "metadata": {
        "colab": {
          "base_uri": "https://localhost:8080/"
        },
        "id": "QkwdA3ugSB1v",
        "outputId": "ab2c09ca-59eb-47c4-9290-1074a7d1a234"
      },
      "source": [
        "import pandas as pd\n",
        "import numpy as np\n",
        "\n",
        "df = pd.DataFrame(np.random.randn(8, 4), columns=['A', 'B', 'C', 'D'])\n",
        "\n",
        "print(df);print()\n",
        "\n",
        "s = df.iloc[3]\n",
        "print(s);print()\n",
        "\n",
        "print(df.append(s, ignore_index=True))"
      ],
      "execution_count": 21,
      "outputs": [
        {
          "output_type": "stream",
          "text": [
            "          A         B         C         D\n",
            "0  0.052705 -0.817249 -1.054962 -0.236603\n",
            "1  0.183855 -0.136039  0.549557  2.007688\n",
            "2  0.792182  1.034686 -0.576597  0.246381\n",
            "3 -0.882775  0.402320  1.121751  0.163473\n",
            "4 -0.153182  1.961247 -1.561922  1.153994\n",
            "5  1.590927  0.975359 -0.292704  0.242134\n",
            "6 -0.792909 -0.621839  0.310214  1.139842\n",
            "7 -1.992483  0.663073  0.436936 -0.090380\n",
            "\n",
            "A   -0.882775\n",
            "B    0.402320\n",
            "C    1.121751\n",
            "D    0.163473\n",
            "Name: 3, dtype: float64\n",
            "\n",
            "          A         B         C         D\n",
            "0  0.052705 -0.817249 -1.054962 -0.236603\n",
            "1  0.183855 -0.136039  0.549557  2.007688\n",
            "2  0.792182  1.034686 -0.576597  0.246381\n",
            "3 -0.882775  0.402320  1.121751  0.163473\n",
            "4 -0.153182  1.961247 -1.561922  1.153994\n",
            "5  1.590927  0.975359 -0.292704  0.242134\n",
            "6 -0.792909 -0.621839  0.310214  1.139842\n",
            "7 -1.992483  0.663073  0.436936 -0.090380\n",
            "8 -0.882775  0.402320  1.121751  0.163473\n"
          ],
          "name": "stdout"
        }
      ]
    },
    {
      "cell_type": "code",
      "metadata": {
        "colab": {
          "base_uri": "https://localhost:8080/"
        },
        "id": "h7E9xS7rTPjx",
        "outputId": "2d2611e2-d403-4077-abc4-7590693ff06a"
      },
      "source": [
        "import pandas as pd\n",
        "import numpy as np\n",
        "\n",
        "df = pd.DataFrame(\n",
        "    {\n",
        "        'A' : ['foo', 'bar', 'foo', 'bar', 'foo', 'bar', 'foo', 'bar'],\n",
        "        'B' : ['one', 'one', 'two', 'three', 'two', 'two', 'one', 'three'],\n",
        "        'C' : np.random.randn(8),\n",
        "        'D' : np.random.randn(8)\n",
        "    }\n",
        ")\n",
        "\n",
        "print(df);print()\n",
        "\n",
        "a = df.groupby('A').sum() \n",
        "print(a);print()\n"
      ],
      "execution_count": 25,
      "outputs": [
        {
          "output_type": "stream",
          "text": [
            "     A      B         C         D\n",
            "0  foo    one  0.702820  0.404536\n",
            "1  bar    one  0.868109  0.299709\n",
            "2  foo    two -0.627670 -0.838099\n",
            "3  bar  three  0.117613 -1.115663\n",
            "4  foo    two  1.427381  1.973954\n",
            "5  bar    two  0.693669 -0.936183\n",
            "6  foo    one -0.599913  0.761419\n",
            "7  bar  three -0.864676 -1.001112\n",
            "\n",
            "            C         D\n",
            "A                      \n",
            "bar  0.814715 -2.753249\n",
            "foo  0.902618  2.301809\n",
            "\n"
          ],
          "name": "stdout"
        }
      ]
    },
    {
      "cell_type": "code",
      "metadata": {
        "id": "pR26ZEAwT_Gf"
      },
      "source": [
        "df.groupby('A'),sum()"
      ],
      "execution_count": null,
      "outputs": []
    },
    {
      "cell_type": "code",
      "metadata": {
        "colab": {
          "base_uri": "https://localhost:8080/",
          "height": 172
        },
        "id": "thAoexx-X4y5",
        "outputId": "9f67e5d8-3a59-4c4e-efa7-8b5afb0782b4"
      },
      "source": [
        "zipped = zip(x,y)"
      ],
      "execution_count": 26,
      "outputs": [
        {
          "output_type": "error",
          "ename": "NameError",
          "evalue": "ignored",
          "traceback": [
            "\u001b[0;31m---------------------------------------------------------------------------\u001b[0m",
            "\u001b[0;31mNameError\u001b[0m                                 Traceback (most recent call last)",
            "\u001b[0;32m<ipython-input-26-5d2b0b6da534>\u001b[0m in \u001b[0;36m<module>\u001b[0;34m()\u001b[0m\n\u001b[0;32m----> 1\u001b[0;31m \u001b[0mzipped\u001b[0m \u001b[0;34m=\u001b[0m \u001b[0mzip\u001b[0m\u001b[0;34m(\u001b[0m\u001b[0mx\u001b[0m\u001b[0;34m,\u001b[0m\u001b[0my\u001b[0m\u001b[0;34m)\u001b[0m\u001b[0;34m\u001b[0m\u001b[0;34m\u001b[0m\u001b[0m\n\u001b[0m",
            "\u001b[0;31mNameError\u001b[0m: name 'x' is not defined"
          ]
        }
      ]
    },
    {
      "cell_type": "code",
      "metadata": {
        "colab": {
          "base_uri": "https://localhost:8080/",
          "height": 172
        },
        "id": "Q6MOwTpQX8IX",
        "outputId": "9a5e36dd-a9ec-4c32-ab77-651a6e5da8c1"
      },
      "source": [
        "list(zipped)"
      ],
      "execution_count": 27,
      "outputs": [
        {
          "output_type": "error",
          "ename": "NameError",
          "evalue": "ignored",
          "traceback": [
            "\u001b[0;31m---------------------------------------------------------------------------\u001b[0m",
            "\u001b[0;31mNameError\u001b[0m                                 Traceback (most recent call last)",
            "\u001b[0;32m<ipython-input-27-86a181f5b4d4>\u001b[0m in \u001b[0;36m<module>\u001b[0;34m()\u001b[0m\n\u001b[0;32m----> 1\u001b[0;31m \u001b[0mlist\u001b[0m\u001b[0;34m(\u001b[0m\u001b[0mzipped\u001b[0m\u001b[0;34m)\u001b[0m\u001b[0;34m\u001b[0m\u001b[0;34m\u001b[0m\u001b[0m\n\u001b[0m",
            "\u001b[0;31mNameError\u001b[0m: name 'zipped' is not defined"
          ]
        }
      ]
    },
    {
      "cell_type": "code",
      "metadata": {
        "colab": {
          "base_uri": "https://localhost:8080/"
        },
        "id": "RlbH5EW0YCmF",
        "outputId": "a9c14de4-70c2-47b2-d495-8b3e63d0f1ac"
      },
      "source": [
        "x = [1, 2, 3]\n",
        "y = [4, 5, 6]\n",
        "zipped = zip(x,y)\n",
        "list(zipped)\n",
        "x2, y2 = zip(*zip(x,y))\n",
        "print(x2)\n",
        "print(y2)"
      ],
      "execution_count": 28,
      "outputs": [
        {
          "output_type": "stream",
          "text": [
            "(1, 2, 3)\n",
            "(4, 5, 6)\n"
          ],
          "name": "stdout"
        }
      ]
    }
  ]
}